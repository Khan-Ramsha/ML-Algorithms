{
 "cells": [
  {
   "cell_type": "code",
   "execution_count": 1,
   "id": "bef4411e-3710-45dc-885c-69542aafbc4c",
   "metadata": {},
   "outputs": [],
   "source": [
    "import pandas as pd\n",
    "import numpy as np\n",
    "import seaborn as sns\n",
    "import matplotlib.pyplot as plt\n"
   ]
  },
  {
   "cell_type": "code",
   "execution_count": 5,
   "id": "8bc4a454-7337-4980-b157-517975cde476",
   "metadata": {},
   "outputs": [],
   "source": [
    "from sklearn.datasets import make_classification"
   ]
  },
  {
   "cell_type": "code",
   "execution_count": 15,
   "id": "e7b044a8-f447-4c58-b511-4aa283e440f7",
   "metadata": {},
   "outputs": [],
   "source": [
    "X,y=make_classification(n_samples=100,n_features=4,n_classes=2,n_clusters_per_class=2,n_redundant=2)"
   ]
  },
  {
   "cell_type": "code",
   "execution_count": 16,
   "id": "40f8f30c-8e4b-4a20-9787-811b5be61907",
   "metadata": {},
   "outputs": [
    {
     "data": {
      "text/plain": [
       "array([[ 2.00189979e-01,  1.09205391e+00,  1.90375295e+00,\n",
       "         8.04402167e-01],\n",
       "       [ 2.53988741e-01, -3.27434210e-01,  7.11146831e-01,\n",
       "         8.62232825e-01],\n",
       "       [ 4.02683779e-01, -1.65186327e+00,  5.28397540e-04,\n",
       "         1.26231001e+00],\n",
       "       [-1.52825020e-01,  1.24412009e+00,  6.13858907e-01,\n",
       "        -4.22013288e-01],\n",
       "       [ 9.07422761e-02,  1.11357728e+00,  1.47834618e+00,\n",
       "         4.21799508e-01],\n",
       "       [ 6.27642730e-01, -2.37530182e+00,  1.99178949e-01,\n",
       "         1.98592813e+00],\n",
       "       [-9.03304719e-01,  1.74142521e+00, -1.95520874e+00,\n",
       "        -3.01318109e+00],\n",
       "       [-1.39514332e-01,  1.06080512e+00,  4.85820914e-01,\n",
       "        -3.92185663e-01],\n",
       "       [-1.32629655e-01,  1.41637889e-01, -4.00545935e-01,\n",
       "        -4.52959403e-01],\n",
       "       [-8.77601954e-02,  9.49538173e-01,  5.86408404e-01,\n",
       "        -2.20610236e-01],\n",
       "       [-7.28536012e-02, -8.49337439e-01, -1.14242515e+00,\n",
       "        -3.34514023e-01],\n",
       "       [ 1.05046710e-01,  1.03434215e+00,  1.45791351e+00,\n",
       "         4.64740031e-01],\n",
       "       [ 4.98447362e-01, -1.49889351e+00,  5.43671845e-01,\n",
       "         1.61295736e+00],\n",
       "       [ 1.16782813e-02,  1.15607702e+00,  1.19785014e+00,\n",
       "         1.47902275e-01],\n",
       "       [ 3.40596680e-01,  5.41515613e-01,  1.92923630e+00,\n",
       "         1.24689165e+00],\n",
       "       [-1.07942673e-01,  9.68845939e-01,  5.23222615e-01,\n",
       "        -2.89745399e-01],\n",
       "       [-1.90028897e-01,  1.11432586e+00,  3.32842642e-01,\n",
       "        -5.64743265e-01],\n",
       "       [ 3.60654195e-03,  1.44799636e+00,  1.45532593e+00,\n",
       "         1.46523161e-01],\n",
       "       [ 3.16856613e-01, -7.76446916e-02,  1.21631889e+00,\n",
       "         1.10623657e+00],\n",
       "       [-9.08230200e-02, -7.61121042e-01, -1.12801938e+00,\n",
       "        -3.89502859e-01],\n",
       "       [ 2.79951327e-01,  8.65961512e-01,  2.00444078e+00,\n",
       "         1.06377890e+00],\n",
       "       [ 1.20889426e-01,  7.38547459e-01,  1.22830716e+00,\n",
       "         4.93067631e-01],\n",
       "       [-4.05097824e-01, -2.91654769e-01, -1.94397727e+00,\n",
       "        -1.45044789e+00],\n",
       "       [-1.60236407e-01,  1.06953302e+00,  4.09906376e-01,\n",
       "        -4.64194921e-01],\n",
       "       [-9.34789119e-01,  2.07099049e+00, -1.75586143e+00,\n",
       "        -3.09335088e+00],\n",
       "       [ 5.74554056e-01, -1.32753774e+00,  1.02485816e+00,\n",
       "         1.89623122e+00],\n",
       "       [-2.20568293e-01, -5.17547943e-01, -1.41537514e+00,\n",
       "        -8.22904034e-01],\n",
       "       [ 5.58816204e-01, -1.33032728e+00,  9.57833082e-01,\n",
       "         1.84067155e+00],\n",
       "       [ 6.14509441e-01, -1.60598637e+00,  9.10949273e-01,\n",
       "         2.01089263e+00],\n",
       "       [ 8.35607077e-01,  6.95869773e-01,  4.10368215e+00,\n",
       "         3.00059477e+00],\n",
       "       [ 2.13163705e-01,  6.73313574e-01,  1.54011613e+00,\n",
       "         8.11283460e-01],\n",
       "       [-6.84307650e-01,  2.03986685e+00, -7.64235564e-01,\n",
       "        -2.21605200e+00],\n",
       "       [ 3.93289793e-02,  6.58262219e-01,  8.15461383e-01,\n",
       "         1.99048017e-01],\n",
       "       [-4.05464443e-01, -2.07111761e-01, -1.86136270e+00,\n",
       "        -1.44392117e+00],\n",
       "       [ 1.50397887e-01, -1.39292237e+00, -7.71810107e-01,\n",
       "         3.99729502e-01],\n",
       "       [ 1.72588562e-01, -1.41219089e+00, -7.00386805e-01,\n",
       "         4.75924969e-01],\n",
       "       [ 6.99906518e-01, -1.50282941e+00,  1.36221303e+00,\n",
       "         2.32050814e+00],\n",
       "       [-3.89982090e-01,  6.65807031e-01, -9.29694732e-01,\n",
       "        -1.30882623e+00],\n",
       "       [ 3.35694002e-01, -1.18441414e+00,  1.92104762e-01,\n",
       "         1.07012232e+00],\n",
       "       [-9.21118121e-01,  1.57406598e+00, -2.19443657e+00,\n",
       "        -3.09124661e+00],\n",
       "       [ 2.49764381e-02, -1.09900733e+00, -9.91428986e-01,\n",
       "        -1.38245188e-02],\n",
       "       [ 3.91792056e-01,  4.07373655e-01,  2.00478445e+00,\n",
       "         1.41438910e+00],\n",
       "       [-1.54021642e-01,  9.68606214e-01,  3.34866727e-01,\n",
       "        -4.51686113e-01],\n",
       "       [-5.47209105e-02, -9.79401367e-01, -1.19779820e+00,\n",
       "        -2.82819766e-01],\n",
       "       [ 4.48565867e-01, -1.41332594e+00,  4.25161258e-01,\n",
       "         1.44558667e+00],\n",
       "       [ 3.62994672e-02, -5.13123429e-01, -3.62310613e-01,\n",
       "         8.01218649e-02],\n",
       "       [-5.17877574e-01,  9.57023773e-01, -1.16209838e+00,\n",
       "        -1.73132328e+00],\n",
       "       [ 6.43042493e-01, -1.42089058e+00,  1.21158606e+00,\n",
       "         2.12826586e+00],\n",
       "       [-8.22936102e-02,  1.19475991e+00,  8.52695257e-01,\n",
       "        -1.78733179e-01],\n",
       "       [-7.53834729e-02, -3.45342345e-01, -6.51331888e-01,\n",
       "        -2.96815492e-01],\n",
       "       [-4.83947648e-01,  6.27434716e-01, -1.35148548e+00,\n",
       "        -1.64256227e+00],\n",
       "       [ 7.10153764e-02, -1.17695984e+00, -8.81029473e-01,\n",
       "         1.40747590e-01],\n",
       "       [ 2.03135598e-01,  1.01863794e+00,  1.84273736e+00,\n",
       "         8.07966454e-01],\n",
       "       [ 5.05625423e-01, -6.00104634e-01,  1.46717552e+00,\n",
       "         1.72126292e+00],\n",
       "       [-7.56477342e-01,  1.71236400e+00, -1.38469880e+00,\n",
       "        -2.49992542e+00],\n",
       "       [ 4.44309620e-01, -6.62323442e-02,  1.74799985e+00,\n",
       "         1.55515324e+00],\n",
       "       [-1.01905570e+00,  2.68565893e+00, -1.48835007e+00,\n",
       "        -3.33263948e+00],\n",
       "       [-4.67030615e-01, -4.05302763e-01, -2.30988554e+00,\n",
       "        -1.67858116e+00],\n",
       "       [ 4.33865819e-01, -1.99350791e-01,  1.57292435e+00,\n",
       "         1.50614917e+00],\n",
       "       [ 7.73618458e-01, -2.90352925e+00,  2.69594790e-01,\n",
       "         2.45004918e+00],\n",
       "       [ 2.58605509e-01,  8.15225731e-01,  1.86681978e+00,\n",
       "         9.84081144e-01],\n",
       "       [ 3.81145541e-01, -3.77117551e-01,  1.18083482e+00,\n",
       "         1.30446107e+00],\n",
       "       [-1.20169089e+00,  3.66941182e+00, -1.25522882e+00,\n",
       "        -3.88347164e+00],\n",
       "       [ 2.36173769e-01, -1.64767879e+00, -6.75085597e-01,\n",
       "         6.77591277e-01],\n",
       "       [-7.53623032e-01,  2.42167588e+00, -6.67356266e-01,\n",
       "        -2.42432813e+00],\n",
       "       [-3.55054281e-02, -5.46941654e-01, -6.89099624e-01,\n",
       "        -1.75322043e-01],\n",
       "       [-6.99609170e-01,  1.89920058e+00, -9.66651987e-01,\n",
       "        -2.28282349e+00],\n",
       "       [-1.01774230e+00,  2.70715753e+00, -1.46159932e+00,\n",
       "        -3.32603700e+00],\n",
       "       [ 3.06837794e-01,  8.85758525e-01,  2.13390070e+00,\n",
       "         1.16008623e+00],\n",
       "       [ 3.99038959e-01, -1.75501809e+00, -1.16979651e-01,\n",
       "         1.23996691e+00],\n",
       "       [-7.60336610e-01,  2.55635247e+00, -5.60775580e-01,\n",
       "        -2.43546997e+00],\n",
       "       [ 2.70036084e-01, -9.95830099e-02,  1.00334780e+00,\n",
       "         9.39684292e-01],\n",
       "       [ 5.27751964e-01, -1.48204972e+00,  6.80065654e-01,\n",
       "         1.71748886e+00],\n",
       "       [ 5.85607781e-01, -9.59559572e-01,  1.43608409e+00,\n",
       "         1.96908850e+00],\n",
       "       [-8.46300439e-01,  2.12348544e+00, -1.34237952e+00,\n",
       "        -2.77755478e+00],\n",
       "       [ 4.31148785e-01, -6.14954233e-01,  1.14835088e+00,\n",
       "         1.45818411e+00],\n",
       "       [ 4.53420994e-01, -1.22291269e+00,  6.34423235e-01,\n",
       "         1.48024871e+00],\n",
       "       [ 1.13705069e-01, -1.26833820e+00, -7.97660551e-01,\n",
       "         2.82309603e-01],\n",
       "       [ 4.06940871e-01,  7.51751895e-01,  2.40924917e+00,\n",
       "         1.49945473e+00],\n",
       "       [ 5.42938714e-01, -2.11249836e+00,  1.14836279e-01,\n",
       "         1.71257667e+00],\n",
       "       [-1.25584746e-01, -1.02765114e+00, -1.53510319e+00,\n",
       "        -5.36290873e-01],\n",
       "       [ 7.16170826e-01, -1.88258726e+00,  1.05079343e+00,\n",
       "         2.34255579e+00],\n",
       "       [-1.42015758e-01, -8.46919637e-01, -1.42237419e+00,\n",
       "        -5.77321928e-01],\n",
       "       [-1.42469856e-01, -4.63751340e-02, -6.27771493e-01,\n",
       "        -5.04916802e-01],\n",
       "       [ 1.26973812e-01,  2.69704954e-01,  7.86698293e-01,\n",
       "         4.71108875e-01],\n",
       "       [-1.56515104e-01, -7.40075525e-01, -1.37526926e+00,\n",
       "        -6.18395240e-01],\n",
       "       [ 6.53758024e-01, -1.82722433e+00,  8.51073393e-01,\n",
       "         2.12835884e+00],\n",
       "       [ 5.02272704e-02, -9.37760966e-01, -7.27919499e-01,\n",
       "         8.98105975e-02],\n",
       "       [ 2.86461792e-01,  1.36199912e+00,  2.52452437e+00,\n",
       "         1.13250902e+00],\n",
       "       [-1.37358835e-01, -7.14191593e-01, -1.27131203e+00,\n",
       "        -5.48688672e-01],\n",
       "       [ 6.34799394e-03, -1.16450406e+00, -1.13264188e+00,\n",
       "        -8.53380739e-02],\n",
       "       [-4.43505423e-02, -7.22430248e-01, -8.99802271e-01,\n",
       "        -2.22625038e-01],\n",
       "       [ 6.63582217e-01, -1.61161519e+00,  1.10568880e+00,\n",
       "         2.18281092e+00],\n",
       "       [-1.21890632e+00,  3.09018059e+00, -1.90178425e+00,\n",
       "        -3.99750861e+00],\n",
       "       [ 2.80017433e-01, -1.10428310e+00,  4.45270255e-02,\n",
       "         8.81885566e-01],\n",
       "       [ 5.29497594e-01, -1.38527872e+00,  7.83469031e-01,\n",
       "         1.73256822e+00],\n",
       "       [ 3.11555124e-01,  6.25023016e-01,  1.89375513e+00,\n",
       "         1.15256074e+00],\n",
       "       [-3.88393037e-01,  1.45071267e+00, -1.42309873e-01,\n",
       "        -1.23068723e+00],\n",
       "       [ 5.06099023e-03, -9.13429594e-01, -8.88103709e-01,\n",
       "        -6.66516811e-02],\n",
       "       [ 5.27853141e-01, -1.66658492e+00,  4.96885836e-01,\n",
       "         1.70078632e+00]])"
      ]
     },
     "execution_count": 16,
     "metadata": {},
     "output_type": "execute_result"
    }
   ],
   "source": [
    "X"
   ]
  },
  {
   "cell_type": "code",
   "execution_count": 17,
   "id": "38000d55-cfd2-4dde-9a8d-25530c2e3f2e",
   "metadata": {},
   "outputs": [
    {
     "data": {
      "text/plain": [
       "array([1, 0, 1, 1, 1, 0, 0, 1, 0, 1, 0, 1, 1, 1, 1, 1, 1, 1, 1, 0, 1, 1,\n",
       "       0, 1, 0, 1, 0, 1, 1, 1, 1, 0, 1, 0, 0, 0, 1, 0, 0, 0, 0, 1, 1, 0,\n",
       "       1, 0, 0, 1, 1, 0, 0, 0, 1, 1, 0, 1, 0, 0, 1, 1, 1, 1, 0, 0, 0, 0,\n",
       "       0, 0, 1, 0, 0, 1, 1, 1, 0, 1, 1, 0, 1, 1, 0, 0, 0, 0, 0, 0, 1, 0,\n",
       "       1, 0, 0, 0, 1, 0, 0, 1, 1, 0, 0, 1])"
      ]
     },
     "execution_count": 17,
     "metadata": {},
     "output_type": "execute_result"
    }
   ],
   "source": [
    "y"
   ]
  },
  {
   "cell_type": "code",
   "execution_count": 20,
   "id": "50d25a6b-d679-42fc-a83a-fbf20bb8fb8b",
   "metadata": {},
   "outputs": [
    {
     "data": {
      "text/plain": [
       "<AxesSubplot: xlabel='0', ylabel='1'>"
      ]
     },
     "execution_count": 20,
     "metadata": {},
     "output_type": "execute_result"
    },
    {
     "data": {
      "image/png": "[encoded data removed]",
      "text/plain": [
       "<Figure size 640x480 with 1 Axes>"
      ]
     },
     "metadata": {},
     "output_type": "display_data"
    }
   ],
   "source": [
    "sns.scatterplot(x=pd.DataFrame(X)[0],y=pd.DataFrame(X)[1],hue=y)"
   ]
  },
  {
   "cell_type": "code",
   "execution_count": 23,
   "id": "641bad53-aeb9-48cb-99a3-544cbe1284f9",
   "metadata": {},
   "outputs": [],
   "source": [
    "from sklearn.model_selection import train_test_split"
   ]
  },
  {
   "cell_type": "code",
   "execution_count": 24,
   "id": "64a39a84-9619-4e88-aa10-ab37bd99cc69",
   "metadata": {},
   "outputs": [],
   "source": [
    "x_train,x_test,y_train,y_test=train_test_split(X,y,test_size=0.5,random_state=42)"
   ]
  },
  {
   "cell_type": "code",
   "execution_count": 25,
   "id": "eab4bb7d-90aa-499d-a31d-7f26e6bddefe",
   "metadata": {},
   "outputs": [],
   "source": [
    "from sklearn.svm import SVC"
   ]
  },
  {
   "cell_type": "code",
   "execution_count": 27,
   "id": "18f5ef0e-9ca3-4ba8-ab51-ca28a5f64be3",
   "metadata": {},
   "outputs": [],
   "source": [
    "svc=SVC(kernel=\"linear\")"
   ]
  },
  {
   "cell_type": "code",
   "execution_count": 28,
   "id": "b6af5687-096b-4a42-861b-c4c0bcbc414d",
   "metadata": {},
   "outputs": [
    {
     "data": {
      "text/html": [
       "<style>#sk-container-id-1 {color: black;background-color: white;}#sk-container-id-1 pre{padding: 0;}#sk-container-id-1 div.sk-toggleable {background-color: white;}#sk-container-id-1 label.sk-toggleable__label {cursor: pointer;display: block;width: 100%;margin-bottom: 0;padding: 0.3em;box-sizing: border-box;text-align: center;}#sk-container-id-1 label.sk-toggleable__label-arrow:before {content: \"▸\";float: left;margin-right: 0.25em;color: #696969;}#sk-container-id-1 label.sk-toggleable__label-arrow:hover:before {color: black;}#sk-container-id-1 div.sk-estimator:hover label.sk-toggleable__label-arrow:before {color: black;}#sk-container-id-1 div.sk-toggleable__content {max-height: 0;max-width: 0;overflow: hidden;text-align: left;background-color: #f0f8ff;}#sk-container-id-1 div.sk-toggleable__content pre {margin: 0.2em;color: black;border-radius: 0.25em;background-color: #f0f8ff;}#sk-container-id-1 input.sk-toggleable__control:checked~div.sk-toggleable__content {max-height: 200px;max-width: 100%;overflow: auto;}#sk-container-id-1 input.sk-toggleable__control:checked~label.sk-toggleable__label-arrow:before {content: \"▾\";}#sk-container-id-1 div.sk-estimator input.sk-toggleable__control:checked~label.sk-toggleable__label {background-color: #d4ebff;}#sk-container-id-1 div.sk-label input.sk-toggleable__control:checked~label.sk-toggleable__label {background-color: #d4ebff;}#sk-container-id-1 input.sk-hidden--visually {border: 0;clip: rect(1px 1px 1px 1px);clip: rect(1px, 1px, 1px, 1px);height: 1px;margin: -1px;overflow: hidden;padding: 0;position: absolute;width: 1px;}#sk-container-id-1 div.sk-estimator {font-family: monospace;background-color: #f0f8ff;border: 1px dotted black;border-radius: 0.25em;box-sizing: border-box;margin-bottom: 0.5em;}#sk-container-id-1 div.sk-estimator:hover {background-color: #d4ebff;}#sk-container-id-1 div.sk-parallel-item::after {content: \"\";width: 100%;border-bottom: 1px solid gray;flex-grow: 1;}#sk-container-id-1 div.sk-label:hover label.sk-toggleable__label {background-color: #d4ebff;}#sk-container-id-1 div.sk-serial::before {content: \"\";position: absolute;border-left: 1px solid gray;box-sizing: border-box;top: 0;bottom: 0;left: 50%;z-index: 0;}#sk-container-id-1 div.sk-serial {display: flex;flex-direction: column;align-items: center;background-color: white;padding-right: 0.2em;padding-left: 0.2em;position: relative;}#sk-container-id-1 div.sk-item {position: relative;z-index: 1;}#sk-container-id-1 div.sk-parallel {display: flex;align-items: stretch;justify-content: center;background-color: white;position: relative;}#sk-container-id-1 div.sk-item::before, #sk-container-id-1 div.sk-parallel-item::before {content: \"\";position: absolute;border-left: 1px solid gray;box-sizing: border-box;top: 0;bottom: 0;left: 50%;z-index: -1;}#sk-container-id-1 div.sk-parallel-item {display: flex;flex-direction: column;z-index: 1;position: relative;background-color: white;}#sk-container-id-1 div.sk-parallel-item:first-child::after {align-self: flex-end;width: 50%;}#sk-container-id-1 div.sk-parallel-item:last-child::after {align-self: flex-start;width: 50%;}#sk-container-id-1 div.sk-parallel-item:only-child::after {width: 0;}#sk-container-id-1 div.sk-dashed-wrapped {border: 1px dashed gray;margin: 0 0.4em 0.5em 0.4em;box-sizing: border-box;padding-bottom: 0.4em;background-color: white;}#sk-container-id-1 div.sk-label label {font-family: monospace;font-weight: bold;display: inline-block;line-height: 1.2em;}#sk-container-id-1 div.sk-label-container {text-align: center;}#sk-container-id-1 div.sk-container {/* jupyter's `normalize.less` sets `[hidden] { display: none; }` but bootstrap.min.css set `[hidden] { display: none !important; }` so we also need the `!important` here to be able to override the default hidden behavior on the sphinx rendered scikit-learn.org. See: https://github.com/scikit-learn/scikit-learn/issues/21755 */display: inline-block !important;position: relative;}#sk-container-id-1 div.sk-text-repr-fallback {display: none;}</style><div id=\"sk-container-id-1\" class=\"sk-top-container\"><div class=\"sk-text-repr-fallback\"><pre>SVC(kernel=&#x27;linear&#x27;)</pre><b>In a Jupyter environment, please rerun this cell to show the HTML representation or trust the notebook. <br />On GitHub, the HTML representation is unable to render, please try loading this page with nbviewer.org.</b></div><div class=\"sk-container\" hidden><div class=\"sk-item\"><div class=\"sk-estimator sk-toggleable\"><input class=\"sk-toggleable__control sk-hidden--visually\" id=\"sk-estimator-id-1\" type=\"checkbox\" checked><label for=\"sk-estimator-id-1\" class=\"sk-toggleable__label sk-toggleable__label-arrow\">SVC</label><div class=\"sk-toggleable__content\"><pre>SVC(kernel=&#x27;linear&#x27;)</pre></div></div></div></div></div>"
      ],
      "text/plain": [
       "SVC(kernel='linear')"
      ]
     },
     "execution_count": 28,
     "metadata": {},
     "output_type": "execute_result"
    }
   ],
   "source": [
    "svc.fit(x_train,y_train)"
   ]
  },
  {
   "cell_type": "code",
   "execution_count": 29,
   "id": "8e90b1a8-9105-4105-bfb9-fe650d223d31",
   "metadata": {},
   "outputs": [
    {
     "data": {
      "text/plain": [
       "array([[0.19282751, 0.3174703 , 1.10306746, 0.70692991]])"
      ]
     },
     "execution_count": 29,
     "metadata": {},
     "output_type": "execute_result"
    }
   ],
   "source": [
    "svc.coef_"
   ]
  },
  {
   "cell_type": "code",
   "execution_count": 32,
   "id": "41f1675d-e9ef-4598-a39d-99c13198bd2e",
   "metadata": {},
   "outputs": [],
   "source": [
    "y_pred=svc.predict(x_test)"
   ]
  },
  {
   "cell_type": "code",
   "execution_count": 33,
   "id": "0e596e64-52aa-43d0-8ae6-a7979108cedc",
   "metadata": {},
   "outputs": [
    {
     "data": {
      "text/plain": [
       "array([0, 1, 0, 0, 1, 0, 0, 0, 0, 1, 1, 1, 1, 0, 0, 1, 1, 0, 1, 0, 1, 1,\n",
       "       0, 1, 1, 1, 0, 1, 1, 1, 1, 1, 0, 1, 0, 1, 0, 0, 0, 1, 0, 0, 1, 1,\n",
       "       1, 0, 1, 1, 0, 1])"
      ]
     },
     "execution_count": 33,
     "metadata": {},
     "output_type": "execute_result"
    }
   ],
   "source": [
    "y_pred"
   ]
  },
  {
   "cell_type": "code",
   "execution_count": 38,
   "id": "4ebb1971-f51c-44e6-a876-7dd3dbb78557",
   "metadata": {},
   "outputs": [],
   "source": [
    "from sklearn.metrics import classification_report , confusion_matrix, accuracy_score"
   ]
  },
  {
   "cell_type": "code",
   "execution_count": 39,
   "id": "048f574a-daf0-4fa8-b9cf-cd77f673733e",
   "metadata": {},
   "outputs": [
    {
     "name": "stdout",
     "output_type": "stream",
     "text": [
      "              precision    recall  f1-score   support\n",
      "\n",
      "           0       1.00      0.88      0.94        25\n",
      "           1       0.89      1.00      0.94        25\n",
      "\n",
      "    accuracy                           0.94        50\n",
      "   macro avg       0.95      0.94      0.94        50\n",
      "weighted avg       0.95      0.94      0.94        50\n",
      "\n",
      "[[22  3]\n",
      " [ 0 25]]\n"
     ]
    }
   ],
   "source": [
    "print(classification_report(y_test,y_pred))\n",
    "print(confusion_matrix(y_test,y_pred))"
   ]
  },
  {
   "cell_type": "code",
   "execution_count": 41,
   "id": "236302fd-0258-40e5-8078-f42c8557c772",
   "metadata": {},
   "outputs": [
    {
     "name": "stdout",
     "output_type": "stream",
     "text": [
      "0.94\n"
     ]
    }
   ],
   "source": [
    "print(accuracy_score(y_test,y_pred))"
   ]
  },
  {
   "cell_type": "code",
   "execution_count": 42,
   "id": "70b47ddb-f4a6-4098-b09f-59cfc531cbe5",
   "metadata": {},
   "outputs": [],
   "source": [
    "from sklearn.model_selection import GridSearchCV"
   ]
  },
  {
   "cell_type": "code",
   "execution_count": 43,
   "id": "0e275df2-40c4-4023-a64f-75153b87828d",
   "metadata": {},
   "outputs": [],
   "source": [
    "param_grid={\n",
    "    \"C\":[0.1,1,10,100],\n",
    "    \"gamma\":[1,0.1,0.001,0.0001]\n",
    "}"
   ]
  },
  {
   "cell_type": "code",
   "execution_count": 44,
   "id": "d2480867-a0ba-4457-b7ee-7531c3bcdc01",
   "metadata": {},
   "outputs": [],
   "source": [
    "grid=GridSearchCV(SVC(),param_grid=param_grid,refit=True,cv=5,verbose=3)"
   ]
  },
  {
   "cell_type": "code",
   "execution_count": 45,
   "id": "4b7c2d5c-d103-407a-9651-9ba82fd7eba4",
   "metadata": {},
   "outputs": [
    {
     "name": "stdout",
     "output_type": "stream",
     "text": [
      "Fitting 5 folds for each of 16 candidates, totalling 80 fits\n",
      "[CV 1/5] END ....................C=0.1, gamma=1;, score=1.000 total time=   0.0s\n",
      "[CV 2/5] END ....................C=0.1, gamma=1;, score=1.000 total time=   0.0s\n",
      "[CV 3/5] END ....................C=0.1, gamma=1;, score=0.800 total time=   0.0s\n",
      "[CV 4/5] END ....................C=0.1, gamma=1;, score=0.800 total time=   0.0s\n",
      "[CV 5/5] END ....................C=0.1, gamma=1;, score=1.000 total time=   0.0s\n",
      "[CV 1/5] END ..................C=0.1, gamma=0.1;, score=0.900 total time=   0.0s\n",
      "[CV 2/5] END ..................C=0.1, gamma=0.1;, score=1.000 total time=   0.0s\n",
      "[CV 3/5] END ..................C=0.1, gamma=0.1;, score=1.000 total time=   0.0s\n",
      "[CV 4/5] END ..................C=0.1, gamma=0.1;, score=0.600 total time=   0.0s\n",
      "[CV 5/5] END ..................C=0.1, gamma=0.1;, score=1.000 total time=   0.0s\n",
      "[CV 1/5] END ................C=0.1, gamma=0.001;, score=0.800 total time=   0.0s\n",
      "[CV 2/5] END ................C=0.1, gamma=0.001;, score=1.000 total time=   0.0s\n",
      "[CV 3/5] END ................C=0.1, gamma=0.001;, score=1.000 total time=   0.0s\n",
      "[CV 4/5] END ................C=0.1, gamma=0.001;, score=0.600 total time=   0.0s\n",
      "[CV 5/5] END ................C=0.1, gamma=0.001;, score=1.000 total time=   0.0s\n",
      "[CV 1/5] END ...............C=0.1, gamma=0.0001;, score=0.800 total time=   0.0s\n",
      "[CV 2/5] END ...............C=0.1, gamma=0.0001;, score=1.000 total time=   0.0s\n",
      "[CV 3/5] END ...............C=0.1, gamma=0.0001;, score=1.000 total time=   0.0s\n",
      "[CV 4/5] END ...............C=0.1, gamma=0.0001;, score=0.600 total time=   0.0s\n",
      "[CV 5/5] END ...............C=0.1, gamma=0.0001;, score=1.000 total time=   0.0s\n",
      "[CV 1/5] END ......................C=1, gamma=1;, score=1.000 total time=   0.0s\n",
      "[CV 2/5] END ......................C=1, gamma=1;, score=1.000 total time=   0.0s\n",
      "[CV 3/5] END ......................C=1, gamma=1;, score=0.900 total time=   0.0s\n",
      "[CV 4/5] END ......................C=1, gamma=1;, score=0.800 total time=   0.0s\n",
      "[CV 5/5] END ......................C=1, gamma=1;, score=1.000 total time=   0.0s\n",
      "[CV 1/5] END ....................C=1, gamma=0.1;, score=0.900 total time=   0.0s\n",
      "[CV 2/5] END ....................C=1, gamma=0.1;, score=1.000 total time=   0.0s\n",
      "[CV 3/5] END ....................C=1, gamma=0.1;, score=1.000 total time=   0.0s\n",
      "[CV 4/5] END ....................C=1, gamma=0.1;, score=0.700 total time=   0.0s\n",
      "[CV 5/5] END ....................C=1, gamma=0.1;, score=1.000 total time=   0.0s\n",
      "[CV 1/5] END ..................C=1, gamma=0.001;, score=0.800 total time=   0.0s\n",
      "[CV 2/5] END ..................C=1, gamma=0.001;, score=1.000 total time=   0.0s\n",
      "[CV 3/5] END ..................C=1, gamma=0.001;, score=1.000 total time=   0.0s\n",
      "[CV 4/5] END ..................C=1, gamma=0.001;, score=0.600 total time=   0.0s\n",
      "[CV 5/5] END ..................C=1, gamma=0.001;, score=1.000 total time=   0.0s\n",
      "[CV 1/5] END .................C=1, gamma=0.0001;, score=0.800 total time=   0.0s\n",
      "[CV 2/5] END .................C=1, gamma=0.0001;, score=1.000 total time=   0.0s\n",
      "[CV 3/5] END .................C=1, gamma=0.0001;, score=1.000 total time=   0.0s\n",
      "[CV 4/5] END .................C=1, gamma=0.0001;, score=0.600 total time=   0.0s\n",
      "[CV 5/5] END .................C=1, gamma=0.0001;, score=1.000 total time=   0.0s\n",
      "[CV 1/5] END .....................C=10, gamma=1;, score=1.000 total time=   0.0s\n",
      "[CV 2/5] END .....................C=10, gamma=1;, score=1.000 total time=   0.0s\n",
      "[CV 3/5] END .....................C=10, gamma=1;, score=0.700 total time=   0.0s\n",
      "[CV 4/5] END .....................C=10, gamma=1;, score=0.700 total time=   0.0s\n",
      "[CV 5/5] END .....................C=10, gamma=1;, score=0.900 total time=   0.0s\n",
      "[CV 1/5] END ...................C=10, gamma=0.1;, score=1.000 total time=   0.0s\n",
      "[CV 2/5] END ...................C=10, gamma=0.1;, score=1.000 total time=   0.0s\n",
      "[CV 3/5] END ...................C=10, gamma=0.1;, score=0.900 total time=   0.0s\n",
      "[CV 4/5] END ...................C=10, gamma=0.1;, score=0.800 total time=   0.0s\n",
      "[CV 5/5] END ...................C=10, gamma=0.1;, score=1.000 total time=   0.0s\n",
      "[CV 1/5] END .................C=10, gamma=0.001;, score=0.900 total time=   0.0s\n",
      "[CV 2/5] END .................C=10, gamma=0.001;, score=1.000 total time=   0.0s\n",
      "[CV 3/5] END .................C=10, gamma=0.001;, score=1.000 total time=   0.0s\n",
      "[CV 4/5] END .................C=10, gamma=0.001;, score=0.600 total time=   0.0s\n",
      "[CV 5/5] END .................C=10, gamma=0.001;, score=1.000 total time=   0.0s\n",
      "[CV 1/5] END ................C=10, gamma=0.0001;, score=0.800 total time=   0.0s\n",
      "[CV 2/5] END ................C=10, gamma=0.0001;, score=1.000 total time=   0.0s\n",
      "[CV 3/5] END ................C=10, gamma=0.0001;, score=1.000 total time=   0.0s\n",
      "[CV 4/5] END ................C=10, gamma=0.0001;, score=0.600 total time=   0.0s\n",
      "[CV 5/5] END ................C=10, gamma=0.0001;, score=1.000 total time=   0.0s\n",
      "[CV 1/5] END ....................C=100, gamma=1;, score=1.000 total time=   0.0s\n",
      "[CV 2/5] END ....................C=100, gamma=1;, score=1.000 total time=   0.0s\n",
      "[CV 3/5] END ....................C=100, gamma=1;, score=0.700 total time=   0.0s\n",
      "[CV 4/5] END ....................C=100, gamma=1;, score=0.700 total time=   0.0s\n",
      "[CV 5/5] END ....................C=100, gamma=1;, score=0.900 total time=   0.0s\n",
      "[CV 1/5] END ..................C=100, gamma=0.1;, score=1.000 total time=   0.0s\n",
      "[CV 2/5] END ..................C=100, gamma=0.1;, score=1.000 total time=   0.0s\n",
      "[CV 3/5] END ..................C=100, gamma=0.1;, score=0.900 total time=   0.0s\n",
      "[CV 4/5] END ..................C=100, gamma=0.1;, score=0.700 total time=   0.0s\n",
      "[CV 5/5] END ..................C=100, gamma=0.1;, score=0.900 total time=   0.0s\n",
      "[CV 1/5] END ................C=100, gamma=0.001;, score=0.900 total time=   0.0s\n",
      "[CV 2/5] END ................C=100, gamma=0.001;, score=1.000 total time=   0.0s\n",
      "[CV 3/5] END ................C=100, gamma=0.001;, score=1.000 total time=   0.0s\n",
      "[CV 4/5] END ................C=100, gamma=0.001;, score=0.700 total time=   0.0s\n",
      "[CV 5/5] END ................C=100, gamma=0.001;, score=1.000 total time=   0.0s\n",
      "[CV 1/5] END ...............C=100, gamma=0.0001;, score=0.900 total time=   0.0s\n",
      "[CV 2/5] END ...............C=100, gamma=0.0001;, score=1.000 total time=   0.0s\n",
      "[CV 3/5] END ...............C=100, gamma=0.0001;, score=1.000 total time=   0.0s\n",
      "[CV 4/5] END ...............C=100, gamma=0.0001;, score=0.600 total time=   0.0s\n",
      "[CV 5/5] END ...............C=100, gamma=0.0001;, score=1.000 total time=   0.0s\n"
     ]
    },
    {
     "data": {
      "text/html": [
       "<style>#sk-container-id-2 {color: black;background-color: white;}#sk-container-id-2 pre{padding: 0;}#sk-container-id-2 div.sk-toggleable {background-color: white;}#sk-container-id-2 label.sk-toggleable__label {cursor: pointer;display: block;width: 100%;margin-bottom: 0;padding: 0.3em;box-sizing: border-box;text-align: center;}#sk-container-id-2 label.sk-toggleable__label-arrow:before {content: \"▸\";float: left;margin-right: 0.25em;color: #696969;}#sk-container-id-2 label.sk-toggleable__label-arrow:hover:before {color: black;}#sk-container-id-2 div.sk-estimator:hover label.sk-toggleable__label-arrow:before {color: black;}#sk-container-id-2 div.sk-toggleable__content {max-height: 0;max-width: 0;overflow: hidden;text-align: left;background-color: #f0f8ff;}#sk-container-id-2 div.sk-toggleable__content pre {margin: 0.2em;color: black;border-radius: 0.25em;background-color: #f0f8ff;}#sk-container-id-2 input.sk-toggleable__control:checked~div.sk-toggleable__content {max-height: 200px;max-width: 100%;overflow: auto;}#sk-container-id-2 input.sk-toggleable__control:checked~label.sk-toggleable__label-arrow:before {content: \"▾\";}#sk-container-id-2 div.sk-estimator input.sk-toggleable__control:checked~label.sk-toggleable__label {background-color: #d4ebff;}#sk-container-id-2 div.sk-label input.sk-toggleable__control:checked~label.sk-toggleable__label {background-color: #d4ebff;}#sk-container-id-2 input.sk-hidden--visually {border: 0;clip: rect(1px 1px 1px 1px);clip: rect(1px, 1px, 1px, 1px);height: 1px;margin: -1px;overflow: hidden;padding: 0;position: absolute;width: 1px;}#sk-container-id-2 div.sk-estimator {font-family: monospace;background-color: #f0f8ff;border: 1px dotted black;border-radius: 0.25em;box-sizing: border-box;margin-bottom: 0.5em;}#sk-container-id-2 div.sk-estimator:hover {background-color: #d4ebff;}#sk-container-id-2 div.sk-parallel-item::after {content: \"\";width: 100%;border-bottom: 1px solid gray;flex-grow: 1;}#sk-container-id-2 div.sk-label:hover label.sk-toggleable__label {background-color: #d4ebff;}#sk-container-id-2 div.sk-serial::before {content: \"\";position: absolute;border-left: 1px solid gray;box-sizing: border-box;top: 0;bottom: 0;left: 50%;z-index: 0;}#sk-container-id-2 div.sk-serial {display: flex;flex-direction: column;align-items: center;background-color: white;padding-right: 0.2em;padding-left: 0.2em;position: relative;}#sk-container-id-2 div.sk-item {position: relative;z-index: 1;}#sk-container-id-2 div.sk-parallel {display: flex;align-items: stretch;justify-content: center;background-color: white;position: relative;}#sk-container-id-2 div.sk-item::before, #sk-container-id-2 div.sk-parallel-item::before {content: \"\";position: absolute;border-left: 1px solid gray;box-sizing: border-box;top: 0;bottom: 0;left: 50%;z-index: -1;}#sk-container-id-2 div.sk-parallel-item {display: flex;flex-direction: column;z-index: 1;position: relative;background-color: white;}#sk-container-id-2 div.sk-parallel-item:first-child::after {align-self: flex-end;width: 50%;}#sk-container-id-2 div.sk-parallel-item:last-child::after {align-self: flex-start;width: 50%;}#sk-container-id-2 div.sk-parallel-item:only-child::after {width: 0;}#sk-container-id-2 div.sk-dashed-wrapped {border: 1px dashed gray;margin: 0 0.4em 0.5em 0.4em;box-sizing: border-box;padding-bottom: 0.4em;background-color: white;}#sk-container-id-2 div.sk-label label {font-family: monospace;font-weight: bold;display: inline-block;line-height: 1.2em;}#sk-container-id-2 div.sk-label-container {text-align: center;}#sk-container-id-2 div.sk-container {/* jupyter's `normalize.less` sets `[hidden] { display: none; }` but bootstrap.min.css set `[hidden] { display: none !important; }` so we also need the `!important` here to be able to override the default hidden behavior on the sphinx rendered scikit-learn.org. See: https://github.com/scikit-learn/scikit-learn/issues/21755 */display: inline-block !important;position: relative;}#sk-container-id-2 div.sk-text-repr-fallback {display: none;}</style><div id=\"sk-container-id-2\" class=\"sk-top-container\"><div class=\"sk-text-repr-fallback\"><pre>GridSearchCV(cv=5, estimator=SVC(),\n",
       "             param_grid={&#x27;C&#x27;: [0.1, 1, 10, 100],\n",
       "                         &#x27;gamma&#x27;: [1, 0.1, 0.001, 0.0001]},\n",
       "             verbose=3)</pre><b>In a Jupyter environment, please rerun this cell to show the HTML representation or trust the notebook. <br />On GitHub, the HTML representation is unable to render, please try loading this page with nbviewer.org.</b></div><div class=\"sk-container\" hidden><div class=\"sk-item sk-dashed-wrapped\"><div class=\"sk-label-container\"><div class=\"sk-label sk-toggleable\"><input class=\"sk-toggleable__control sk-hidden--visually\" id=\"sk-estimator-id-2\" type=\"checkbox\" ><label for=\"sk-estimator-id-2\" class=\"sk-toggleable__label sk-toggleable__label-arrow\">GridSearchCV</label><div class=\"sk-toggleable__content\"><pre>GridSearchCV(cv=5, estimator=SVC(),\n",
       "             param_grid={&#x27;C&#x27;: [0.1, 1, 10, 100],\n",
       "                         &#x27;gamma&#x27;: [1, 0.1, 0.001, 0.0001]},\n",
       "             verbose=3)</pre></div></div></div><div class=\"sk-parallel\"><div class=\"sk-parallel-item\"><div class=\"sk-item\"><div class=\"sk-label-container\"><div class=\"sk-label sk-toggleable\"><input class=\"sk-toggleable__control sk-hidden--visually\" id=\"sk-estimator-id-3\" type=\"checkbox\" ><label for=\"sk-estimator-id-3\" class=\"sk-toggleable__label sk-toggleable__label-arrow\">estimator: SVC</label><div class=\"sk-toggleable__content\"><pre>SVC()</pre></div></div></div><div class=\"sk-serial\"><div class=\"sk-item\"><div class=\"sk-estimator sk-toggleable\"><input class=\"sk-toggleable__control sk-hidden--visually\" id=\"sk-estimator-id-4\" type=\"checkbox\" ><label for=\"sk-estimator-id-4\" class=\"sk-toggleable__label sk-toggleable__label-arrow\">SVC</label><div class=\"sk-toggleable__content\"><pre>SVC()</pre></div></div></div></div></div></div></div></div></div></div>"
      ],
      "text/plain": [
       "GridSearchCV(cv=5, estimator=SVC(),\n",
       "             param_grid={'C': [0.1, 1, 10, 100],\n",
       "                         'gamma': [1, 0.1, 0.001, 0.0001]},\n",
       "             verbose=3)"
      ]
     },
     "execution_count": 45,
     "metadata": {},
     "output_type": "execute_result"
    }
   ],
   "source": [
    "grid.fit(x_train,y_train)"
   ]
  },
  {
   "cell_type": "code",
   "execution_count": 51,
   "id": "92b4c5e7-7c35-4e48-944a-40aeda40f614",
   "metadata": {},
   "outputs": [
    {
     "data": {
      "text/plain": [
       "{'C': 1, 'gamma': 1}"
      ]
     },
     "execution_count": 51,
     "metadata": {},
     "output_type": "execute_result"
    }
   ],
   "source": [
    "grid.best_params_"
   ]
  },
  {
   "cell_type": "code",
   "execution_count": 52,
   "id": "40df1dd6-9090-4fc0-ae82-994de6134615",
   "metadata": {},
   "outputs": [],
   "source": [
    "y_pred=grid.predict(x_test)"
   ]
  },
  {
   "cell_type": "code",
   "execution_count": 53,
   "id": "37620001-0c65-4676-a486-94ba3ede0f23",
   "metadata": {},
   "outputs": [
    {
     "name": "stdout",
     "output_type": "stream",
     "text": [
      "[[22  3]\n",
      " [ 0 25]]\n"
     ]
    }
   ],
   "source": [
    "print(confusion_matrix(y_test,y_pred))"
   ]
  },
  {
   "cell_type": "code",
   "execution_count": null,
   "id": "27176782-dc23-43c4-8115-68a58a6267e7",
   "metadata": {},
   "outputs": [],
   "source": []
  }
 ],
 "metadata": {
  "kernelspec": {
   "display_name": "Python 3 (ipykernel)",
   "language": "python",
   "name": "python3"
  },
  "language_info": {
   "codemirror_mode": {
    "name": "ipython",
    "version": 3
   },
   "file_extension": ".py",
   "mimetype": "text/x-python",
   "name": "python",
   "nbconvert_exporter": "python",
   "pygments_lexer": "ipython3",
   "version": "3.10.8"
  }
 },
 "nbformat": 4,
 "nbformat_minor": 5
}
